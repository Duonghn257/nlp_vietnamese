{
 "cells": [
  {
   "cell_type": "code",
   "execution_count": 1,
   "id": "0403ec6a",
   "metadata": {},
   "outputs": [],
   "source": [
    "import os\n",
    "os.chdir(\"..\")\n",
    "os.environ[\"CUDA_VISIBLE_DEVICES\"] = \"0\""
   ]
  },
  {
   "cell_type": "code",
   "execution_count": null,
   "id": "a3784d4c",
   "metadata": {},
   "outputs": [],
   "source": [
    "import torch\n",
    "torch.cuda.is_available()"
   ]
  },
  {
   "cell_type": "code",
   "execution_count": 2,
   "id": "9ea2e4c9",
   "metadata": {},
   "outputs": [],
   "source": [
    "from datasets import load_dataset_builder, load_dataset\n",
    "dataset = load_dataset(\"truongpdd/vietnamese_poetry\")"
   ]
  },
  {
   "cell_type": "code",
   "execution_count": 3,
   "id": "f2b746b3",
   "metadata": {},
   "outputs": [
    {
     "name": "stdout",
     "output_type": "stream",
     "text": [
      "Đã lưu tất cả text vào file text_output.txt\n"
     ]
    }
   ],
   "source": [
    "train_dataset = dataset['train']\n",
    "\n",
    "# Mở file để ghi\n",
    "with open('./train_data/vietnam_poetry.txt', 'w', encoding='utf-8') as f:\n",
    "    for example in train_dataset:\n",
    "        text = example['text']\n",
    "        # Thêm token <s> vào đầu mỗi dòng\n",
    "        f.write(f\"<s>{text}\\n\")\n",
    "\n",
    "print(\"Đã lưu tất cả text vào file text_output.txt\")"
   ]
  },
  {
   "cell_type": "code",
   "execution_count": null,
   "id": "dfe78b7d",
   "metadata": {},
   "outputs": [],
   "source": [
    "with open('./data/text_output.txt', 'r', encoding='utf-8') as f:\n",
    "    data = f.read()"
   ]
  },
  {
   "cell_type": "code",
   "execution_count": null,
   "id": "e58cd611",
   "metadata": {},
   "outputs": [],
   "source": [
    "data[:1000]"
   ]
  },
  {
   "cell_type": "code",
   "execution_count": null,
   "id": "d27ccb75",
   "metadata": {},
   "outputs": [],
   "source": [
    "def create_conversation(example):\n",
    "  # Xử lý để lấy prompt và completion từ dữ liệu của bạn\n",
    "  # Ví dụ: lấy 50 từ đầu làm prompt\n",
    "  words = example['text'].split()\n",
    "  prompt = \" \".join(words[:50])\n",
    "  completion = \" \".join(words[50:])\n",
    "\n",
    "  # Tạo list of dicts cho cuộc hội thoại\n",
    "  conversation = [\n",
    "    {\"role\": \"system\", \"content\": f\"Bạn là một chuyên gia về văn học Việt Nam. Hãy trả lời các câu hỏi về tác phẩm và tác giả một cách chính xác và sâu sắc.\"},\n",
    "    {\"role\": \"user\", \"content\": f\"Hãy viết tiếp đoạn văn sau:\\n{prompt}\"},\n",
    "    {\"role\": \"assistant\", \"content\": completion}\n",
    "  ]\n",
    "  return conversation"
   ]
  },
  {
   "cell_type": "code",
   "execution_count": null,
   "id": "3e229648",
   "metadata": {},
   "outputs": [],
   "source": [
    "from transformers import AutoTokenizer\n",
    "\n",
    "# Tải tokenizer của mô hình bạn chọn\n",
    "model_name = \"Qwen/Qwen2.5-0.5B-Instruct\"\n",
    "\n",
    "tokenizer = AutoTokenizer.from_pretrained(model_name)\n",
    "if tokenizer.pad_token is None:\n",
    "    tokenizer.pad_token = tokenizer.eos_token\n",
    "tokenizer.padding_side = \"right\"\n",
    "\n",
    "def apply_template(example):\n",
    "  # Tạo cuộc hội thoại\n",
    "  conversation = create_conversation(example)\n",
    "  # Áp dụng chat template để chuyển thành chuỗi văn bản\n",
    "  example['formatted_text'] = tokenizer.apply_chat_template(conversation, tokenize=False)\n",
    "  return example\n",
    "\n",
    "# Áp dụng hàm trên cho toàn bộ dataset\n",
    "formatted_dataset = dataset.map(apply_template)"
   ]
  },
  {
   "cell_type": "code",
   "execution_count": null,
   "id": "33ce0fc5",
   "metadata": {},
   "outputs": [],
   "source": []
  },
  {
   "cell_type": "code",
   "execution_count": null,
   "id": "5a7bb3df",
   "metadata": {},
   "outputs": [],
   "source": [
    "formatted_dataset['train'][1]"
   ]
  },
  {
   "cell_type": "code",
   "execution_count": null,
   "id": "63635445",
   "metadata": {},
   "outputs": [],
   "source": [
    "tmp_dataset = formatted_dataset['train'].train_test_split(test_size=0.1)[\"test\"]\n",
    "tmp_dataset\n",
    "# eval_dataset = formatted_dataset['test'].train_test_split(test_size=0.1)[\"test\"]"
   ]
  },
  {
   "cell_type": "code",
   "execution_count": null,
   "id": "ad7d2132",
   "metadata": {},
   "outputs": [],
   "source": [
    "train_dataset = tmp_dataset.train_test_split(test_size=0.1)[\"train\"]\n",
    "eval_dataset = tmp_dataset.train_test_split(test_size=0.1)[\"test\"]"
   ]
  },
  {
   "cell_type": "code",
   "execution_count": null,
   "id": "453c9c9e",
   "metadata": {},
   "outputs": [],
   "source": [
    "train_dataset"
   ]
  },
  {
   "cell_type": "code",
   "execution_count": null,
   "id": "69b9c5b6",
   "metadata": {},
   "outputs": [],
   "source": [
    "eval_dataset"
   ]
  },
  {
   "cell_type": "code",
   "execution_count": null,
   "id": "62747cf8",
   "metadata": {},
   "outputs": [],
   "source": [
    "import torch\n",
    "from transformers import AutoTokenizer, AutoModelForCausalLM, BitsAndBytesConfig\n",
    "from peft import LoraConfig, prepare_model_for_kbit_training\n",
    "from trl import SFTTrainer\n",
    "from datasets import DatasetDict\n",
    "from peft import (\n",
    "    LoraConfig,\n",
    "    get_peft_model,\n",
    "    TaskType,\n",
    "    prepare_model_for_kbit_training\n",
    ")\n",
    "\n",
    "# Tải mô hình\n",
    "# model_name = \"Qwen/Qwen2.5-1.5B-Instruct\"\n",
    "\n",
    "# Load tokenizer\n",
    "\n",
    "\n",
    "# Quantization configuration for memory efficiency\n",
    "bnb_config = BitsAndBytesConfig(\n",
    "    load_in_4bit=True,\n",
    "    bnb_4bit_quant_type=\"nf4\",\n",
    "    bnb_4bit_compute_dtype=torch.float16,\n",
    "    bnb_4bit_use_double_quant=True,\n",
    ")\n",
    "\n",
    "# Load model with quantization\n",
    "model = AutoModelForCausalLM.from_pretrained(\n",
    "    model_name,\n",
    "    quantization_config=bnb_config,\n",
    "    # device_map=\"cuda\",\n",
    "    trust_remote_code=True,\n",
    "    torch_dtype=torch.bfloat16\n",
    ").to('cuda' if torch.cuda.is_available() else 'cpu')\n",
    "\n",
    "# Disable caching for training\n",
    "model.config.use_cache = False\n",
    "\n",
    "# Prepare model for k-bit training\n",
    "model = prepare_model_for_kbit_training(model)\n",
    "\n",
    "\n",
    "# LoRA configuration\n",
    "lora_config = LoraConfig(\n",
    "    r=4,                    # Rank\n",
    "    lora_alpha=4,           # Alpha parameter for LoRA scaling\n",
    "    target_modules=[         # Target modules for Qwen2.5\n",
    "        \"q_proj\",\n",
    "        \"k_proj\",\n",
    "        \"v_proj\",\n",
    "        \"o_proj\",\n",
    "        \"gate_proj\",\n",
    "        \"up_proj\",\n",
    "        \"down_proj\"\n",
    "    ],\n",
    "    lora_dropout=0.1,        # Dropout probability for LoRA layers\n",
    "    bias=\"none\",             # Bias type\n",
    "    task_type=TaskType.CAUSAL_LM,\n",
    "    inference_mode=False,\n",
    ")\n",
    "\n",
    "# Apply LoRA to the model\n",
    "model = get_peft_model(model, lora_config)\n",
    "model.print_trainable_parameters()"
   ]
  },
  {
   "cell_type": "code",
   "execution_count": null,
   "id": "93871f08",
   "metadata": {},
   "outputs": [],
   "source": [
    "from transformers import TrainingArguments\n",
    "output_dir = \"./qwen-vietnamese-poetry-lora\"\n",
    "# Training arguments\n",
    "training_arguments = TrainingArguments(\n",
    "    output_dir=output_dir,\n",
    "    per_device_train_batch_size=4,\n",
    "    per_device_eval_batch_size=4,\n",
    "    gradient_accumulation_steps=4,\n",
    "    optim=\"adamw_bnb_8bit\",\n",
    "    num_train_epochs=10,\n",
    "    eval_strategy=\"steps\",\n",
    "    eval_steps=0.2,\n",
    "    logging_steps=10,\n",
    "    warmup_steps=10,\n",
    "    logging_dir=\"./logs\",\n",
    "    save_strategy=\"epoch\",\n",
    "    save_steps=0.2,\n",
    "    max_steps=-1,\n",
    "    learning_rate=2e-4,\n",
    "    fp16=False,\n",
    "    bf16=False,\n",
    "    group_by_length=True,\n",
    "    report_to=\"none\",\n",
    "    run_name=\"qwen-vietnamese-poetry-finetune\"\n",
    ")"
   ]
  },
  {
   "cell_type": "code",
   "execution_count": null,
   "id": "5192f814",
   "metadata": {},
   "outputs": [],
   "source": [
    "# # Data collator for text generation\n",
    "from transformers import DataCollatorForLanguageModeling\n",
    "\n",
    "data_collator = DataCollatorForLanguageModeling(\n",
    "    tokenizer=tokenizer,\n",
    "    mlm=False,\n",
    "    pad_to_multiple_of=8\n",
    ")\n",
    "\n",
    "# Tokenization function\n",
    "def tokenize_function(examples):\n",
    "    # Tokenize the formatted text\n",
    "    tokenized = tokenizer(\n",
    "        examples[\"formatted_text\"],\n",
    "        truncation=True,\n",
    "        padding=True,\n",
    "        max_length=512,\n",
    "        return_tensors=None\n",
    "    )\n",
    "    # Add labels for causal language modeling\n",
    "    tokenized[\"labels\"] = tokenized[\"input_ids\"].copy()\n",
    "    return tokenized\n",
    "\n",
    "# Apply tokenization to datasets\n",
    "tokenized_train_dataset = train_dataset.map(\n",
    "    tokenize_function,\n",
    "    batched=True,\n",
    "    remove_columns=train_dataset.column_names\n",
    ")\n",
    "\n",
    "tokenized_eval_dataset = eval_dataset.map(\n",
    "    tokenize_function,\n",
    "    batched=True,\n",
    "    remove_columns=eval_dataset.column_names\n",
    ")\n",
    "\n",
    "# Initialize trainer with PEFT config\n",
    "trainer = SFTTrainer(\n",
    "    model=model,\n",
    "    train_dataset=tokenized_train_dataset,\n",
    "    eval_dataset=tokenized_eval_dataset,\n",
    "    data_collator=data_collator,\n",
    "    args=training_arguments,\n",
    "    peft_config=lora_config,  # Add this back - it's still needed for SFTTrainer\n",
    ")"
   ]
  },
  {
   "cell_type": "code",
   "execution_count": null,
   "id": "fbc151d8",
   "metadata": {},
   "outputs": [],
   "source": [
    "train_dataset"
   ]
  },
  {
   "cell_type": "code",
   "execution_count": null,
   "id": "a02d7826",
   "metadata": {},
   "outputs": [],
   "source": [
    "def formatting_func(example):\n",
    "    # Trả về một list chứa chuỗi văn bản đã được định dạng\n",
    "    # Mỗi item trong list tương ứng với một mẫu huấn luyện\n",
    "    return example['formatted_text']\n",
    "\n",
    "trainer = SFTTrainer(\n",
    "    model=model,\n",
    "    train_dataset=train_dataset,\n",
    "    eval_dataset=eval_dataset,\n",
    "    data_collator=data_collator,\n",
    "    args=training_arguments,\n",
    "    peft_config=lora_config,\n",
    "    formatting_func=formatting_func\n",
    ")"
   ]
  },
  {
   "cell_type": "code",
   "execution_count": null,
   "id": "73f8d6c0",
   "metadata": {},
   "outputs": [],
   "source": [
    "# Start training\n",
    "print(\"Starting training...\")\n",
    "trainer.train()\n",
    "\n",
    "# Save the final model\n",
    "trainer.save_model()\n",
    "tokenizer.save_pretrained(output_dir)\n",
    "\n",
    "print(f\"Training completed! Model saved to {output_dir}\")"
   ]
  },
  {
   "cell_type": "code",
   "execution_count": null,
   "id": "dc2eaadd",
   "metadata": {},
   "outputs": [],
   "source": [
    "# Function to test the fine-tuned model\n",
    "def test_model(prompt, max_length=100):\n",
    "    \"\"\"Test the fine-tuned model with a Vietnamese poetry prompt\"\"\"\n",
    "    conversation = [\n",
    "      {\"role\": \"system\", \"content\": f\"Bạn là một chuyên gia về văn học Việt Nam. Hãy trả lời các câu hỏi về tác phẩm và tác giả một cách chính xác và sâu sắc.\"},\n",
    "      {\"role\": \"user\", \"content\": f\"Hãy viết tiếp đoạn văn sau:\\nthơ bảy chữ: \\n{prompt}\"}\n",
    "    ]\n",
    "    formatted_prompt = tokenizer.apply_chat_template(\n",
    "        conversation,\n",
    "        tokenize=False,\n",
    "        add_generation_prompt=True\n",
    "    )\n",
    "\n",
    "    inputs = tokenizer(formatted_prompt, return_tensors=\"pt\").to(model.device)\n",
    "\n",
    "    generated_ids = model.generate(\n",
    "        **inputs,\n",
    "        max_new_tokens=max_length\n",
    "    )\n",
    "    \n",
    "    generated_ids = [\n",
    "        output_ids[len(input_ids):] for input_ids, output_ids in zip(inputs.input_ids, generated_ids)\n",
    "    ]\n",
    "\n",
    "    response = tokenizer.batch_decode(generated_ids, skip_special_tokens=True)[0]\n",
    "\n",
    "\n",
    "    return response"
   ]
  },
  {
   "cell_type": "code",
   "execution_count": null,
   "id": "a420c84f",
   "metadata": {},
   "outputs": [],
   "source": [
    "import os\n",
    "os.chdir(\"..\")"
   ]
  },
  {
   "cell_type": "code",
   "execution_count": null,
   "id": "20a5665f",
   "metadata": {},
   "outputs": [],
   "source": [
    "lora_path = \"notebooks/qwen-vietnamese-poetry-lora\"\n",
    "os.listdir(lora_path)"
   ]
  },
  {
   "cell_type": "code",
   "execution_count": null,
   "id": "5af626a2",
   "metadata": {},
   "outputs": [],
   "source": [
    "from transformers import AutoTokenizer, AutoModelForCausalLM\n",
    "from peft import PeftModel, PeftConfig\n",
    "import torch\n",
    "\n",
    "# 1. Define paths for the original base model and the LoRA checkpoint\n",
    "base_model_id = \"Qwen/Qwen2.5-0.5B-Instruct\" # Or any other base model ID\n",
    "lora_path = \"notebooks/qwen-vietnamese-poetry-lora\"\n",
    "\n",
    "# 2. Load the original base model\n",
    "model = AutoModelForCausalLM.from_pretrained(\n",
    "    base_model_id,\n",
    "    torch_dtype=torch.bfloat16\n",
    ").to('cuda' if torch.cuda.is_available() else 'cpu')\n",
    "\n",
    "# 3. Load the LoRA adapter weights and attach them to the base model\n",
    "model = PeftModel.from_pretrained(model, lora_path)\n",
    "\n",
    "# 4. Load the tokenizer from the base model\n",
    "tokenizer = AutoTokenizer.from_pretrained(base_model_id)\n",
    "\n",
    "print(\"LoRA model loaded successfully!\")\n",
    "\n",
    "# You can now proceed to generate text as shown in the previous example\n",
    "# The `generate` function will automatically use the combined weights."
   ]
  },
  {
   "cell_type": "code",
   "execution_count": null,
   "id": "91909685",
   "metadata": {},
   "outputs": [],
   "source": [
    "from transformers import AutoTokenizer, AutoModelForCausalLM\n",
    "\n",
    "# Tải tokenizer của mô hình bạn chọn\n",
    "model_name = \"notebooks/qwen-vietnamese-poetry-lora/checkpoint-9630\"\n",
    "print(os.listdir(model_name))\n",
    "base_model = AutoModelForCausalLM.from_pretrained(model_name)\n",
    "tokenizer = AutoTokenizer.from_pretrained(model_name)"
   ]
  },
  {
   "cell_type": "code",
   "execution_count": null,
   "id": "918653d1",
   "metadata": {},
   "outputs": [],
   "source": [
    "# Function to test the fine-tuned model\n",
    "def test_model(prompt, max_length=100):\n",
    "    \"\"\"Test the fine-tuned model with a Vietnamese poetry prompt\"\"\"\n",
    "    conversation = [\n",
    "      {\"role\": \"system\", \"content\": f\"Hãy trả lời các câu hỏi một cách chính xác và sâu sắc.\"},\n",
    "      {\"role\": \"user\", \"content\": f\"{prompt}\"}\n",
    "    ]\n",
    "    formatted_prompt = tokenizer.apply_chat_template(\n",
    "        conversation,\n",
    "        tokenize=False,\n",
    "        add_generation_prompt=True\n",
    "    )\n",
    "\n",
    "    inputs = tokenizer(formatted_prompt, return_tensors=\"pt\").to(model.device)\n",
    "\n",
    "    generated_ids = model.generate(\n",
    "        **inputs,\n",
    "        max_new_tokens=max_length\n",
    "    )\n",
    "    \n",
    "    generated_ids = [\n",
    "        output_ids[len(input_ids):] for input_ids, output_ids in zip(inputs.input_ids, generated_ids)\n",
    "    ]\n",
    "\n",
    "    response = tokenizer.batch_decode(generated_ids, skip_special_tokens=True)[0]\n",
    "\n",
    "\n",
    "    return response"
   ]
  },
  {
   "cell_type": "code",
   "execution_count": null,
   "id": "72b1ccc0",
   "metadata": {},
   "outputs": [],
   "source": [
    "res = test_model(\"Ai là tổng thống mỹ\", max_length=256)\n",
    "res"
   ]
  },
  {
   "cell_type": "code",
   "execution_count": null,
   "id": "e0fb87b0",
   "metadata": {},
   "outputs": [],
   "source": [
    "from huggingface_hub import notebook_login\n",
    "notebook_login()"
   ]
  },
  {
   "cell_type": "code",
   "execution_count": null,
   "id": "ac781a00",
   "metadata": {},
   "outputs": [],
   "source": []
  },
  {
   "cell_type": "code",
   "execution_count": null,
   "id": "b99a3ee2",
   "metadata": {},
   "outputs": [],
   "source": []
  },
  {
   "cell_type": "code",
   "execution_count": null,
   "id": "ca101d7b",
   "metadata": {},
   "outputs": [],
   "source": []
  },
  {
   "cell_type": "code",
   "execution_count": null,
   "id": "2f36479c",
   "metadata": {},
   "outputs": [],
   "source": [
    "train_dataset[0][\"text\"]"
   ]
  },
  {
   "cell_type": "code",
   "execution_count": null,
   "id": "1775f716",
   "metadata": {},
   "outputs": [],
   "source": [
    "dataset"
   ]
  },
  {
   "cell_type": "code",
   "execution_count": null,
   "id": "8d0efcd4",
   "metadata": {},
   "outputs": [],
   "source": [
    "output_file = 'output.txt'\n",
    "\n",
    "# Open the file in write mode ('w') and specify the encoding\n",
    "with open(output_file, 'w', encoding='utf-8') as f:\n",
    "    # Iterate through the 'text' column of the 'train' split\n",
    "    for text_entry in dataset['train']['text']:\n",
    "        # Write the line to the file, prepending '<s>' and adding a newline character\n",
    "        f.write(f'<s>{text_entry}\\n\\n')\n",
    "\n",
    "print(f\"Data successfully saved to {output_file}\")"
   ]
  }
 ],
 "metadata": {
  "kernelspec": {
   "display_name": ".venv",
   "language": "python",
   "name": "python3"
  },
  "language_info": {
   "codemirror_mode": {
    "name": "ipython",
    "version": 3
   },
   "file_extension": ".py",
   "mimetype": "text/x-python",
   "name": "python",
   "nbconvert_exporter": "python",
   "pygments_lexer": "ipython3",
   "version": "3.12.11"
  }
 },
 "nbformat": 4,
 "nbformat_minor": 5
}
