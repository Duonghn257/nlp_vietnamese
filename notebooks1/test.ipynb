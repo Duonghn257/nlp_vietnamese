{
 "cells": [
  {
   "cell_type": "code",
   "execution_count": null,
   "id": "aa11483a",
   "metadata": {},
   "outputs": [],
   "source": [
    "import os\n",
    "os.chdir(\"..\")\n",
    "from src import (\n",
    "    VietnameseTrainer,\n",
    "    VietnamesePreprocessor,\n",
    "    VietnameseTextDataset,\n",
    "    VietnameseTokenizer,\n",
    "    VietnameseTransformer,\n",
    "    prepare_vietnamese_dataset,\n",
    "    test_generation,\n",
    "    load_texts_from_folder,\n",
    ")"
   ]
  },
  {
   "cell_type": "code",
   "execution_count": null,
   "id": "a49ac042",
   "metadata": {},
   "outputs": [],
   "source": [
    "def setup_training_config():\n",
    "    \"\"\"Setup training configuration\"\"\"\n",
    "    config = {\n",
    "        # Data configuration\n",
    "        \"data_folder\": \"train_data_1\",\n",
    "        \"tokenizer_file\": \"vietnamese_tokenizer.json\",\n",
    "        \"vocab_size\": 25000,\n",
    "        \"max_seq_len\": 512,\n",
    "        \"train_split\": 0.8,\n",
    "        # Model configuration\n",
    "        \"d_model\": 768,\n",
    "        \"n_heads\": 12,\n",
    "        \"n_layers\": 12,\n",
    "        \"d_ff\": 3072,\n",
    "        \"dropout\": 0.1,\n",
    "        # Training configuration\n",
    "        \"batch_size\": 16,\n",
    "        \"learning_rate\": 3e-5,\n",
    "        \"weight_decay\": 0.01,\n",
    "        \"num_epochs\": 10,\n",
    "        \"warmup_steps\": 5000,\n",
    "        \"device\": \"auto\",  # 'cuda', 'cpu', or 'auto'\n",
    "        # Generation configuration\n",
    "        \"temperature\": 0.8,\n",
    "        \"top_k\": 10,\n",
    "        \"top_p\": 0.9,\n",
    "        \"max_new_tokens\": 512,\n",
    "        # Save configuration\n",
    "        \"model_save_path\": \"vietnamese_transformer_best.pt\",\n",
    "        \"config_save_path\": \"training_config.json\",\n",
    "    }\n",
    "    return config"
   ]
  },
  {
   "cell_type": "code",
   "execution_count": null,
   "id": "d5a06e5a",
   "metadata": {},
   "outputs": [],
   "source": [
    "def load_tokenizer(tokenizer_path: str) -> VietnameseTokenizer:\n",
    "    tokenizer = VietnameseTokenizer()\n",
    "    tokenizer.load(tokenizer_path)\n",
    "    return tokenizer"
   ]
  },
  {
   "cell_type": "code",
   "execution_count": null,
   "id": "4d014708",
   "metadata": {},
   "outputs": [],
   "source": [
    "config = setup_training_config()\n",
    "vietnam_tokenizer = load_tokenizer(config[\"tokenizer_file\"])\n",
    "tokenizer = vietnam_tokenizer.tokenizer\n",
    "model = VietnameseTransformer(\n",
    "    vocab_size=tokenizer.get_vocab_size(),\n",
    "    d_model=config[\"d_model\"],\n",
    "    n_heads=config[\"n_heads\"],\n",
    "    n_layers=config[\"n_layers\"],\n",
    "    d_ff=config[\"d_ff\"],\n",
    "    max_seq_len=config[\"max_seq_len\"],\n",
    "    dropout=config[\"dropout\"],\n",
    "    pad_token_id=tokenizer.token_to_id(\"[PAD]\"),\n",
    ")"
   ]
  },
  {
   "cell_type": "code",
   "execution_count": null,
   "id": "09eab060",
   "metadata": {},
   "outputs": [],
   "source": [
    "import torch\n",
    "if os.path.exists(config[\"model_save_path\"]):\n",
    "    checkpoint = torch.load(\n",
    "        \"vietnamese_transformer_best.pt\",\n",
    "        map_location=\"cpu\",\n",
    "        weights_only=False,\n",
    "    )\n",
    "    model.load_state_dict(checkpoint[\"model_state_dict\"])\n",
    "    print(\"✅ Loaded best model for testing\")\n",
    "    \n",
    "def test(test_cases: list[str], max_new_tokens: int):\n",
    "    test_generation(model, tokenizer, device=\"cpu\", test_cases=test_cases, max_new_tokens=max_new_tokens)"
   ]
  },
  {
   "cell_type": "code",
   "execution_count": null,
   "id": "d502bd5e",
   "metadata": {},
   "outputs": [],
   "source": [
    "test(test_cases=[\"thơ lục bát: mùa đông để mộng nằm im \"], max_new_tokens=150)"
   ]
  },
  {
   "cell_type": "code",
   "execution_count": null,
   "id": "b3d6fd76",
   "metadata": {},
   "outputs": [],
   "source": []
  }
 ],
 "metadata": {
  "kernelspec": {
   "display_name": ".venv",
   "language": "python",
   "name": "python3"
  },
  "language_info": {
   "codemirror_mode": {
    "name": "ipython",
    "version": 3
   },
   "file_extension": ".py",
   "mimetype": "text/x-python",
   "name": "python",
   "nbconvert_exporter": "python",
   "pygments_lexer": "ipython3",
   "version": "3.12.11"
  }
 },
 "nbformat": 4,
 "nbformat_minor": 5
}
